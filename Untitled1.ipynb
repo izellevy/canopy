{
 "cells": [
  {
   "cell_type": "code",
   "execution_count": 30,
   "id": "1fde182f-5396-4c24-805e-ab01b18de2c2",
   "metadata": {},
   "outputs": [],
   "source": [
    "import uuid\n",
    "from datetime import datetime\n",
    "def uid():\n",
    "    myuuid = uuid.uuid4()\n",
    "    return str(myuuid)\n",
    "\n",
    "\n",
    "def index_name():\n",
    "    today = datetime.today().strftime(\"%Y-%m-%d\")\n",
    "    return f\"test-app-{uid()[-6:]}-{today}\"\n"
   ]
  },
  {
   "cell_type": "code",
   "execution_count": 31,
   "id": "51686cc5-52a6-45f8-8a3d-c9c5976886f9",
   "metadata": {},
   "outputs": [
    {
     "name": "stdout",
     "output_type": "stream",
     "text": [
      "The dotenv extension is already loaded. To reload it, use:\n",
      "  %reload_ext dotenv\n"
     ]
    }
   ],
   "source": [
    "%load_ext dotenv\n",
    "%dotenv"
   ]
  },
  {
   "cell_type": "code",
   "execution_count": 35,
   "id": "9f1927b7-90d6-4c0c-9235-d51e1271f251",
   "metadata": {},
   "outputs": [
    {
     "data": {
      "text/plain": [
       "'test-app-4aa874-2023-12-03'"
      ]
     },
     "execution_count": 35,
     "metadata": {},
     "output_type": "execute_result"
    }
   ],
   "source": [
    "index_name()"
   ]
  },
  {
   "cell_type": "code",
   "execution_count": 33,
   "id": "6618c678-97d8-4dc4-934b-3aa5165adfba",
   "metadata": {},
   "outputs": [],
   "source": [
    "from canopy.tokenizer import Tokenizer\n",
    "Tokenizer.initialize()"
   ]
  },
  {
   "cell_type": "code",
   "execution_count": 36,
   "id": "71261f4b-cdf8-439a-bc47-888dd71b6491",
   "metadata": {},
   "outputs": [
    {
     "name": "stdout",
     "output_type": "stream",
     "text": [
      "test-app-6d7083-2023-12-03 test-app-e551e2-2023-12-03\n",
      "Done\n"
     ]
    }
   ],
   "source": [
    "from canopy.knowledge_base import KnowledgeBase\n",
    "\n",
    "index1 = index_name()\n",
    "index2 = index_name()\n",
    "print(index1,index2)\n",
    "\n",
    "kb1 = KnowledgeBase(index_name=\"test-app-4aa874-2023-12-03\")\n",
    "kb1.create_canopy_index(index_params={\"metric\": \"dotproduct\"})\n",
    "print(\"Done\")\n",
    "#kb2 = KnowledgeBase(index_name=index2)\n",
    "# kb2.create_canopy_index(index_params={\"metric\": \"dotproduct\"})\n",
    "#print(\"Done\")\n"
   ]
  },
  {
   "cell_type": "code",
   "execution_count": null,
   "id": "2f0226a9-ad15-4eef-8cac-7da13bcf8856",
   "metadata": {},
   "outputs": [],
   "source": []
  }
 ],
 "metadata": {
  "kernelspec": {
   "display_name": "Python 3 (ipykernel)",
   "language": "python",
   "name": "python3"
  },
  "language_info": {
   "codemirror_mode": {
    "name": "ipython",
    "version": 3
   },
   "file_extension": ".py",
   "mimetype": "text/x-python",
   "name": "python",
   "nbconvert_exporter": "python",
   "pygments_lexer": "ipython3",
   "version": "3.9.18"
  }
 },
 "nbformat": 4,
 "nbformat_minor": 5
}
